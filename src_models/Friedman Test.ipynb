{
 "cells": [
  {
   "cell_type": "markdown",
   "id": "d5c372a1",
   "metadata": {},
   "source": [
    "# Friedman Test (repeated measures ANOVA: for more than two paired samples)"
   ]
  },
  {
   "cell_type": "raw",
   "id": "876b28dd",
   "metadata": {},
   "source": [
    "The Friedman test is a nonparametric test used to compare three or more matched groups. It is sometimes simply called the Friedman test and often cited asFriedman’s two-way ANOVA\n",
    "\n",
    "The parametric equivalent to this test is the repeated measures analysis of variance (ANOVA). When the Friedman test leads to significant results, at least one of the samples is different from the other samples.\n",
    "\n",
    "The default assumption, or null hypothesis, is that the multiple paired samples have the same distribution. A rejection of the null hypothesis indicates that one or more of the paired samples has a different distribution.\n",
    "\n",
    "-Fail to Reject H0: Paired sample distributions are equal.\n",
    "-Reject H0: Paired sample distributions are not equal."
   ]
  },
  {
   "cell_type": "markdown",
   "id": "db09383f",
   "metadata": {},
   "source": [
    "#### Loading libraries"
   ]
  },
  {
   "cell_type": "code",
   "execution_count": 6,
   "id": "2c466c83",
   "metadata": {},
   "outputs": [
    {
     "name": "stdout",
     "output_type": "stream",
     "text": [
      "Total participants in survey: 1995\n",
      "Total survey items: 78\n",
      "--------\n",
      "Techniques survey section- shape: (1995, 30)\n"
     ]
    }
   ],
   "source": [
    "# from all_libraries import *\n",
    "from all_libraries import *\n",
    "from eda_step1 import *\n",
    "from scipy.stats import friedmanchisquare\n",
    "import warnings\n",
    "warnings.filterwarnings('ignore')\n",
    "# #Techniques\n",
    "data = EDAworkflow()\n",
    "df_t = data.get_techniques(data)\n",
    "\n",
    "   \n",
    "\n"
   ]
  },
  {
   "cell_type": "markdown",
   "id": "f1078583",
   "metadata": {},
   "source": [
    "# *******Friedman test*********** \n"
   ]
  },
  {
   "cell_type": "markdown",
   "id": "6119141f",
   "metadata": {},
   "source": [
    "#### Research question"
   ]
  },
  {
   "cell_type": "code",
   "execution_count": 2,
   "id": "08ae3684",
   "metadata": {},
   "outputs": [],
   "source": [
    "#-The independent variable are the domains\n",
    "#-The dependent variables are the influence scores given to the techniques\n",
    "\n",
    "# H0:There are not significal differences (Null)\n",
    "# H1: There is a significant difference betwwen the groups (Alternative)"
   ]
  },
  {
   "cell_type": "code",
   "execution_count": 3,
   "id": "b8d9271e",
   "metadata": {},
   "outputs": [],
   "source": [
    "#__Does the domain has an influence in the score given to a persuasion technique?\n",
    "\n",
    "#__Are there differences in the influence scores across domains (i.e., subscriptions to the news, blood donation and exercise) \n",
    "\n"
   ]
  },
  {
   "cell_type": "code",
   "execution_count": 21,
   "id": "7d9529ee",
   "metadata": {},
   "outputs": [
    {
     "data": {
      "text/plain": [
       "RangeIndex(start=0, stop=1995, step=1)"
      ]
     },
     "execution_count": 21,
     "metadata": {},
     "output_type": "execute_result"
    }
   ],
   "source": [
    "df_t.index"
   ]
  },
  {
   "cell_type": "code",
   "execution_count": 18,
   "id": "f010b52f",
   "metadata": {},
   "outputs": [
    {
     "ename": "AttributeError",
     "evalue": "Can only use .str accessor with string values!",
     "output_type": "error",
     "traceback": [
      "\u001b[1;31m---------------------------------------------------------------------------\u001b[0m",
      "\u001b[1;31mAttributeError\u001b[0m                            Traceback (most recent call last)",
      "Cell \u001b[1;32mIn [18], line 1\u001b[0m\n\u001b[1;32m----> 1\u001b[0m df_t[\u001b[38;5;124m'\u001b[39m\u001b[38;5;124mt\u001b[39m\u001b[38;5;124m'\u001b[39m] \u001b[38;5;241m=\u001b[39m \u001b[43mdf_t\u001b[49m\u001b[38;5;241;43m.\u001b[39;49m\u001b[43mindex\u001b[49m\u001b[38;5;241;43m.\u001b[39;49m\u001b[43mstr\u001b[49m\u001b[38;5;241m.\u001b[39msplit(\u001b[38;5;124m'\u001b[39m\u001b[38;5;124m_\u001b[39m\u001b[38;5;124m'\u001b[39m)\u001b[38;5;241m.\u001b[39mstr[\u001b[38;5;241m0\u001b[39m]\n",
      "File \u001b[1;32m~\\PycharmProjects\\phaseII-060123\\venv\\lib\\site-packages\\pandas\\core\\accessor.py:182\u001b[0m, in \u001b[0;36mCachedAccessor.__get__\u001b[1;34m(self, obj, cls)\u001b[0m\n\u001b[0;32m    179\u001b[0m \u001b[38;5;28;01mif\u001b[39;00m obj \u001b[38;5;129;01mis\u001b[39;00m \u001b[38;5;28;01mNone\u001b[39;00m:\n\u001b[0;32m    180\u001b[0m     \u001b[38;5;66;03m# we're accessing the attribute of the class, i.e., Dataset.geo\u001b[39;00m\n\u001b[0;32m    181\u001b[0m     \u001b[38;5;28;01mreturn\u001b[39;00m \u001b[38;5;28mself\u001b[39m\u001b[38;5;241m.\u001b[39m_accessor\n\u001b[1;32m--> 182\u001b[0m accessor_obj \u001b[38;5;241m=\u001b[39m \u001b[38;5;28;43mself\u001b[39;49m\u001b[38;5;241;43m.\u001b[39;49m\u001b[43m_accessor\u001b[49m\u001b[43m(\u001b[49m\u001b[43mobj\u001b[49m\u001b[43m)\u001b[49m\n\u001b[0;32m    183\u001b[0m \u001b[38;5;66;03m# Replace the property with the accessor object. Inspired by:\u001b[39;00m\n\u001b[0;32m    184\u001b[0m \u001b[38;5;66;03m# https://www.pydanny.com/cached-property.html\u001b[39;00m\n\u001b[0;32m    185\u001b[0m \u001b[38;5;66;03m# We need to use object.__setattr__ because we overwrite __setattr__ on\u001b[39;00m\n\u001b[0;32m    186\u001b[0m \u001b[38;5;66;03m# NDFrame\u001b[39;00m\n\u001b[0;32m    187\u001b[0m \u001b[38;5;28mobject\u001b[39m\u001b[38;5;241m.\u001b[39m\u001b[38;5;21m__setattr__\u001b[39m(obj, \u001b[38;5;28mself\u001b[39m\u001b[38;5;241m.\u001b[39m_name, accessor_obj)\n",
      "File \u001b[1;32m~\\PycharmProjects\\phaseII-060123\\venv\\lib\\site-packages\\pandas\\core\\strings\\accessor.py:181\u001b[0m, in \u001b[0;36mStringMethods.__init__\u001b[1;34m(self, data)\u001b[0m\n\u001b[0;32m    178\u001b[0m \u001b[38;5;28;01mdef\u001b[39;00m \u001b[38;5;21m__init__\u001b[39m(\u001b[38;5;28mself\u001b[39m, data) \u001b[38;5;241m-\u001b[39m\u001b[38;5;241m>\u001b[39m \u001b[38;5;28;01mNone\u001b[39;00m:\n\u001b[0;32m    179\u001b[0m     \u001b[38;5;28;01mfrom\u001b[39;00m \u001b[38;5;21;01mpandas\u001b[39;00m\u001b[38;5;21;01m.\u001b[39;00m\u001b[38;5;21;01mcore\u001b[39;00m\u001b[38;5;21;01m.\u001b[39;00m\u001b[38;5;21;01marrays\u001b[39;00m\u001b[38;5;21;01m.\u001b[39;00m\u001b[38;5;21;01mstring_\u001b[39;00m \u001b[38;5;28;01mimport\u001b[39;00m StringDtype\n\u001b[1;32m--> 181\u001b[0m     \u001b[38;5;28mself\u001b[39m\u001b[38;5;241m.\u001b[39m_inferred_dtype \u001b[38;5;241m=\u001b[39m \u001b[38;5;28;43mself\u001b[39;49m\u001b[38;5;241;43m.\u001b[39;49m\u001b[43m_validate\u001b[49m\u001b[43m(\u001b[49m\u001b[43mdata\u001b[49m\u001b[43m)\u001b[49m\n\u001b[0;32m    182\u001b[0m     \u001b[38;5;28mself\u001b[39m\u001b[38;5;241m.\u001b[39m_is_categorical \u001b[38;5;241m=\u001b[39m is_categorical_dtype(data\u001b[38;5;241m.\u001b[39mdtype)\n\u001b[0;32m    183\u001b[0m     \u001b[38;5;28mself\u001b[39m\u001b[38;5;241m.\u001b[39m_is_string \u001b[38;5;241m=\u001b[39m \u001b[38;5;28misinstance\u001b[39m(data\u001b[38;5;241m.\u001b[39mdtype, StringDtype)\n",
      "File \u001b[1;32m~\\PycharmProjects\\phaseII-060123\\venv\\lib\\site-packages\\pandas\\core\\strings\\accessor.py:235\u001b[0m, in \u001b[0;36mStringMethods._validate\u001b[1;34m(data)\u001b[0m\n\u001b[0;32m    232\u001b[0m inferred_dtype \u001b[38;5;241m=\u001b[39m lib\u001b[38;5;241m.\u001b[39minfer_dtype(values, skipna\u001b[38;5;241m=\u001b[39m\u001b[38;5;28;01mTrue\u001b[39;00m)\n\u001b[0;32m    234\u001b[0m \u001b[38;5;28;01mif\u001b[39;00m inferred_dtype \u001b[38;5;129;01mnot\u001b[39;00m \u001b[38;5;129;01min\u001b[39;00m allowed_types:\n\u001b[1;32m--> 235\u001b[0m     \u001b[38;5;28;01mraise\u001b[39;00m \u001b[38;5;167;01mAttributeError\u001b[39;00m(\u001b[38;5;124m\"\u001b[39m\u001b[38;5;124mCan only use .str accessor with string values!\u001b[39m\u001b[38;5;124m\"\u001b[39m)\n\u001b[0;32m    236\u001b[0m \u001b[38;5;28;01mreturn\u001b[39;00m inferred_dtype\n",
      "\u001b[1;31mAttributeError\u001b[0m: Can only use .str accessor with string values!"
     ]
    }
   ],
   "source": [
    "df_t['t'] = df_t.index.str.split('_').str[0]"
   ]
  },
  {
   "cell_type": "markdown",
   "id": "51b3a9ff",
   "metadata": {},
   "source": [
    "### **Significant difference between more than two domains?**"
   ]
  },
  {
   "cell_type": "markdown",
   "id": "6aab4023",
   "metadata": {},
   "source": [
    "df_t['t'] = df_t.index.str.split('_').str[0]\n",
    "df_t['d'] = df_t.index.str.split('_').str[1]"
   ]
  },
  {
   "cell_type": "code",
   "execution_count": null,
   "id": "fa5f1129",
   "metadata": {},
   "outputs": [],
   "source": [
    "df_pivot_t = df_t.pivot(index='t', columns='d').transpose()\n",
    "df_pivot_t\n",
    "df_pivot_t = df_t.pivot(index='d', columns='t').transpose()"
   ]
  },
  {
   "cell_type": "code",
   "execution_count": null,
   "id": "29379786",
   "metadata": {},
   "outputs": [],
   "source": [
    "print(tabulate(df_pivot_t.describe().T, headers='keys', tablefmt='PrettyTable'))"
   ]
  },
  {
   "cell_type": "code",
   "execution_count": null,
   "id": "25603fb4",
   "metadata": {},
   "outputs": [],
   "source": [
    "#Two-Way layout for Friedman test.\n",
    "# Groups= 1994\n",
    "# blocks = 3\n",
    "\n"
   ]
  },
  {
   "cell_type": "markdown",
   "id": "2a4675e1",
   "metadata": {},
   "source": [
    "### Testing Normality of Variables"
   ]
  },
  {
   "cell_type": "code",
   "execution_count": null,
   "id": "5f21fbb0",
   "metadata": {},
   "outputs": [],
   "source": [
    "# Calling Shapiro function\n",
    "\n",
    "NormalityAssumption(dataset=df_pivot)"
   ]
  },
  {
   "cell_type": "markdown",
   "id": "18f88ea6",
   "metadata": {},
   "source": [
    "### Visualizations"
   ]
  },
  {
   "cell_type": "code",
   "execution_count": null,
   "id": "8c651279",
   "metadata": {},
   "outputs": [],
   "source": [
    "# Histograms domains\n",
    "df_pivot.hist(color='red',edgecolor = 'black',figsize=(30, 44), layout=(15, 6))\n",
    "plt.suptitle(\"Histograms Plots\", fontsize=30)\n",
    "\n",
    "plt.tight_layout()"
   ]
  },
  {
   "cell_type": "code",
   "execution_count": null,
   "id": "02b4c922",
   "metadata": {},
   "outputs": [],
   "source": [
    "boxplots(df_pivot)"
   ]
  },
  {
   "cell_type": "markdown",
   "id": "15c91e6f",
   "metadata": {},
   "source": [
    "###### Differences between the domains at the 5% significance level?"
   ]
  },
  {
   "cell_type": "code",
   "execution_count": null,
   "id": "099c3170",
   "metadata": {},
   "outputs": [],
   "source": [
    "\n",
    "# Samples\n",
    "d1 = df_pivot['d1']\n",
    "d2 = df_pivot['d2']\n",
    "d3 = df_pivot['d3']\n",
    "# compare samples\n",
    "stat, p = friedmanchisquare(d1, d2, d3)\n",
    "print('Statistics=%.3f, p=%.3f' % (stat, p))\n",
    "# interpret\n",
    "alpha = 0.05\n",
    "if p > alpha:\n",
    "    print('Same distributions (fail to reject H0)')\n",
    "else:\n",
    "    print('Different distributions (reject H0)')"
   ]
  },
  {
   "cell_type": "markdown",
   "id": "2653d087",
   "metadata": {},
   "source": [
    "## Testing differences by techniques"
   ]
  },
  {
   "cell_type": "markdown",
   "id": "584b0918",
   "metadata": {},
   "source": [
    "### **Is there a significant difference between more than two techniques?**"
   ]
  },
  {
   "cell_type": "code",
   "execution_count": null,
   "id": "399ec61a",
   "metadata": {},
   "outputs": [],
   "source": [
    "print(tabulate(df_pivot_t.describe().T, headers='keys', tablefmt='psql'))"
   ]
  },
  {
   "cell_type": "markdown",
   "id": "89b06d15",
   "metadata": {},
   "source": [
    "### Testing normality"
   ]
  },
  {
   "cell_type": "code",
   "execution_count": null,
   "id": "62a63f04",
   "metadata": {},
   "outputs": [],
   "source": [
    "\n",
    "# Calling Shapiro function\n",
    "\n",
    "NormalityAssumption(dataset=df_pivot_t)\n"
   ]
  },
  {
   "cell_type": "markdown",
   "id": "ad4fa748",
   "metadata": {},
   "source": [
    "### Visualizations"
   ]
  },
  {
   "cell_type": "code",
   "execution_count": null,
   "id": "d1735226",
   "metadata": {},
   "outputs": [],
   "source": [
    "boxplots(df_pivot_t)"
   ]
  },
  {
   "cell_type": "code",
   "execution_count": null,
   "id": "8356eefd",
   "metadata": {},
   "outputs": [],
   "source": [
    "# Histograms domains\n",
    "df_pivot_t.hist(color='purple',edgecolor = 'black',figsize=(20, 44), layout=(15, 6))\n",
    "plt.suptitle(\"Histograms\", fontsize=30)\n",
    "\n",
    "plt.tight_layout()"
   ]
  },
  {
   "cell_type": "code",
   "execution_count": null,
   "id": "843d7a9a",
   "metadata": {},
   "outputs": [],
   "source": [
    "# Define samples to test\n",
    "\n",
    "#Each technique constitudes a block that serves all treatment conditions(i.e, domains 1,2,3)\n",
    "#The objective is to determine if k subjects in survey from which the observations were made are identically distributed.\n",
    "# techniques samples: 10\n",
    "# Degrees of freedom k-1: 9\n",
    "\n",
    "sample1 = df_pivot_t['t1']\n",
    "sample2 = df_pivot_t['t2']\n",
    "sample3 = df_pivot_t['t3']\n",
    "sample4 = df_pivot_t['t4']\n",
    "sample5 = df_pivot_t['t5']\n",
    "sample6 = df_pivot_t['t6']\n",
    "sample7 = df_pivot_t['t7']\n",
    "sample8 = df_pivot_t['t8']\n",
    "sample9 = df_pivot_t['t9']\n",
    "sample10 = df_pivot_t['t10']\n",
    "\n",
    "\n",
    "\n"
   ]
  },
  {
   "cell_type": "markdown",
   "id": "be9183b2",
   "metadata": {},
   "source": [
    "##### Differences between techniques at the 5% significance level?"
   ]
  },
  {
   "cell_type": "code",
   "execution_count": null,
   "id": "f6cfde4c",
   "metadata": {},
   "outputs": [],
   "source": [
    "# Using the scipy.stats.friedmanchisquare(*samples)\n",
    "\n",
    "stat, p = friedmanchisquare(sample1,sample2, sample3, sample4, sample5, \n",
    "                            sample6, sample7, sample8, sample9, sample10)\n",
    "\n",
    "print('Statistics=%.3f, p=%.3f' % (stat, p))\n",
    "# interpret\n",
    "alpha = 0.05\n",
    "if p > alpha:\n",
    "    print('Same distributions (fail to reject H0)')\n",
    "else:\n",
    "    print('Different distributions (reject H0)')"
   ]
  },
  {
   "cell_type": "code",
   "execution_count": null,
   "id": "6b6ba1eb",
   "metadata": {},
   "outputs": [],
   "source": [
    "# We would like to see if differences exist among domains, but also discovering which techjniques are different from each other. "
   ]
  },
  {
   "cell_type": "code",
   "execution_count": null,
   "id": "cbefa99f",
   "metadata": {},
   "outputs": [],
   "source": []
  },
  {
   "cell_type": "code",
   "execution_count": null,
   "id": "d19a278d",
   "metadata": {},
   "outputs": [],
   "source": [
    "s1=df_techniques['neutral-1']\n",
    "s2=df_techniques['neutral-2']\n",
    "s3=df_techniques['neutral-3']\n",
    "s4=df_techniques['social-proof-1']\n",
    "s5=df_techniques['social-proof-2']\n",
    "s6=df_techniques['social-proof-3']\n",
    "s7=df_techniques['flattery-1']\n",
    "s8=df_techniques['flattery-2']\n",
    "s9=df_techniques['flattery-3']\n",
    "s10=df_techniques['rheto-question-1']\n",
    "s11=df_techniques['rheto-question-2']\n",
    "s12=df_techniques['rheto-question-3']\n",
    "s13=df_techniques['antanagoge-1']\n",
    "s14=df_techniques['antanagoge-2']\n",
    "s15=df_techniques['antanagogue-3']\n",
    "s16=df_techniques['logic-1']\n",
    "s17=df_techniques['logic-2']\n",
    "s18=df_techniques['logic-3']\n",
    "s19=df_techniques['authority-1']\n",
    "s20=df_techniques['authority-2']\n",
    "s21=df_techniques['authority-3']\n",
    "s22=df_techniques['pathos-1']\n",
    "s23=df_techniques['pathos-2']\n",
    "s24=df_techniques['pathos-3']\n",
    "s25=df_techniques['repetition-1']\n",
    "s26=df_techniques['repetition-2']\n",
    "s27=df_techniques['repetition-3']\n",
    "s28=df_techniques['anaphora-1']\n",
    "s29=df_techniques['anaphora-2']\n",
    "s30=df_techniques['anaphora-3']"
   ]
  },
  {
   "cell_type": "code",
   "execution_count": null,
   "id": "8482c342",
   "metadata": {},
   "outputs": [],
   "source": [
    "# Using the scipy.stats.friedmanchisquare(*samples)\n",
    "\n",
    "stat, p = friedmanchisquare(s1,s2,s3,s4,s5,s6,s7,s8,s9,s10,s11,s12,\n",
    "                            s13,s14,s15,s16,s17,s18,s19,s20,s21,s22\n",
    "                            ,s23,s24,s25,s26,s27,s28,s29,s30)\n",
    "\n",
    "print('Statistics=%.3f, p=%.3f' % (stat, p))\n",
    "# interpret\n",
    "alpha = 0.05\n",
    "if p > alpha:\n",
    "    print('Same distributions (fail to reject H0)')\n",
    "else:\n",
    "    print('Different distributions (reject H0)')"
   ]
  },
  {
   "cell_type": "code",
   "execution_count": null,
   "id": "bdd60d9e",
   "metadata": {},
   "outputs": [],
   "source": []
  }
 ],
 "metadata": {
  "kernelspec": {
   "display_name": "Python 3 (ipykernel)",
   "language": "python",
   "name": "python3"
  },
  "language_info": {
   "codemirror_mode": {
    "name": "ipython",
    "version": 3
   },
   "file_extension": ".py",
   "mimetype": "text/x-python",
   "name": "python",
   "nbconvert_exporter": "python",
   "pygments_lexer": "ipython3",
   "version": "3.10.1"
  }
 },
 "nbformat": 4,
 "nbformat_minor": 5
}
